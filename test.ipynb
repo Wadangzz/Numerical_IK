{
 "cells": [
  {
   "cell_type": "code",
   "execution_count": 1,
   "id": "a80a1cca",
   "metadata": {},
   "outputs": [],
   "source": [
    "import numpy as np\n",
    "import time\n",
    "import Robot\n",
    "from MyRobotMath import SE3"
   ]
  },
  {
   "cell_type": "code",
   "execution_count": 2,
   "id": "06804708",
   "metadata": {},
   "outputs": [
    {
     "name": "stdout",
     "output_type": "stream",
     "text": [
      "[[0.0, 0.0, 1.0, 0.0, 0.0, 0.0], [0.0, 0.0, 1.0, 0.0, -1.0, 0.0], [0.0, 0.0, 1.0, 0.0, -2.0, 0.0], [0.0, 0.0, 0.0, 0.0, 0.0, 1.0]]\n",
      "<class 'list'>\n"
     ]
    }
   ],
   "source": [
    "scara = Robot.SCARA(2,1,1)\n",
    "print(scara.S_tw)\n",
    "print(type(scara.S_tw))\n",
    "\n",
    "M = scara.zero\n",
    "S = scara.S_tw\n",
    "B = scara.B_tw"
   ]
  },
  {
   "cell_type": "code",
   "execution_count": 3,
   "id": "7043977a",
   "metadata": {},
   "outputs": [
    {
     "name": "stdout",
     "output_type": "stream",
     "text": [
      "[[ 0 -1  0]\n",
      " [ 1  0  0]\n",
      " [ 0  0  0]]\n",
      "[0, 2, 0]\n"
     ]
    }
   ],
   "source": [
    "se3 = SE3()\n",
    "w = se3.skew(scara.B_tw[0][:3])\n",
    "v = scara.B_tw[0][3:]\n",
    "print(w)\n",
    "print(v)"
   ]
  },
  {
   "cell_type": "code",
   "execution_count": 4,
   "id": "70aa6a77",
   "metadata": {},
   "outputs": [
    {
     "name": "stdout",
     "output_type": "stream",
     "text": [
      "[[ 0.70710678 -0.70710678  0.          0.        ]\n",
      " [ 0.70710678  0.70710678  0.          0.        ]\n",
      " [ 0.          0.          1.          0.        ]\n",
      " [ 0.          0.          0.          1.        ]]\n"
     ]
    }
   ],
   "source": [
    "es_1 = se3.matexp('R',45,S[0])\n",
    "es_2 = se3.matexp('R',45,S[1])\n",
    "es_3 = se3.matexp('R',45,S[2])\n",
    "es_4 = se3.matexp('P',0.9,S[3])\n",
    "print(es_1)\n",
    "matexps_s = [es_1,es_2,es_3,es_4]\n"
   ]
  },
  {
   "cell_type": "code",
   "execution_count": 5,
   "id": "7f736d0c",
   "metadata": {},
   "outputs": [
    {
     "name": "stdout",
     "output_type": "stream",
     "text": [
      "[[ 0.70710678 -0.70710678  0.         -0.58578644]\n",
      " [ 0.70710678  0.70710678  0.          1.41421356]\n",
      " [ 0.          0.          1.          0.        ]\n",
      " [ 0.          0.          0.          1.        ]]\n"
     ]
    }
   ],
   "source": [
    "eb_1 = se3.matexp('R',45,B[0])\n",
    "eb_2 = se3.matexp('R',45,B[1])\n",
    "eb_3 = se3.matexp('R',45,B[2])\n",
    "eb_4 = se3.matexp('P',0.9,B[3])\n",
    "print(eb_1)\n",
    "matexps_b = [eb_1,eb_2,eb_3,eb_4]\n"
   ]
  },
  {
   "cell_type": "code",
   "execution_count": 6,
   "id": "6c70d66e",
   "metadata": {},
   "outputs": [
    {
     "name": "stdout",
     "output_type": "stream",
     "text": [
      "[[ 0.          0.          0.          0.        ]\n",
      " [ 0.          0.          0.          0.        ]\n",
      " [ 1.          1.          1.          0.        ]\n",
      " [ 0.          0.70710678  1.70710678  0.        ]\n",
      " [ 0.         -0.70710678 -0.70710678  0.        ]\n",
      " [ 0.          0.          0.          1.        ]]\n"
     ]
    }
   ],
   "source": [
    "js = se3.space_jacobian(matexps_s,scara.S_tw)\n",
    "print(js)"
   ]
  },
  {
   "cell_type": "code",
   "execution_count": 7,
   "id": "30a0b63a",
   "metadata": {},
   "outputs": [
    {
     "name": "stdout",
     "output_type": "stream",
     "text": [
      "[[ 0.00000000e+00  0.00000000e+00  0.00000000e+00  0.00000000e+00]\n",
      " [ 0.00000000e+00  0.00000000e+00  0.00000000e+00  0.00000000e+00]\n",
      " [ 1.00000000e+00  1.00000000e+00  1.00000000e+00  0.00000000e+00]\n",
      " [ 1.70710678e+00  7.07106781e-01  3.31400081e-17  0.00000000e+00]\n",
      " [ 7.07106781e-01  7.07106781e-01 -1.67155782e-16  0.00000000e+00]\n",
      " [ 0.00000000e+00  0.00000000e+00  0.00000000e+00  1.00000000e+00]]\n"
     ]
    }
   ],
   "source": [
    "jb = se3.body_jacobian(M,matexps_b,matexps_s,scara.S_tw)\n",
    "print(jb)"
   ]
  },
  {
   "cell_type": "code",
   "execution_count": 8,
   "id": "084a7a94",
   "metadata": {},
   "outputs": [
    {
     "name": "stdout",
     "output_type": "stream",
     "text": [
      "[[-0.70710678 -0.70710678  0.          0.70710678]\n",
      " [ 0.70710678 -0.70710678  0.          1.70710678]\n",
      " [ 0.          0.          1.          0.9       ]\n",
      " [ 0.          0.          0.          1.        ]]\n"
     ]
    }
   ],
   "source": [
    "print(se3.matsb(M,matexps_b))"
   ]
  },
  {
   "cell_type": "code",
   "execution_count": null,
   "id": "1089bea0",
   "metadata": {},
   "outputs": [
    {
     "name": "stdout",
     "output_type": "stream",
     "text": [
      "[[ 0.79863551 -0.60181502  0.          1.59727102]\n",
      " [ 0.60181502  0.79863551  0.          1.20363005]\n",
      " [ 0.          0.          1.          0.8       ]\n",
      " [ 0.          0.          0.          1.        ]]\n",
      "[[ 0.00000000e+00  0.00000000e+00  0.00000000e+00  0.00000000e+00]\n",
      " [ 0.00000000e+00  0.00000000e+00  0.00000000e+00  0.00000000e+00]\n",
      " [ 1.00000000e+00  1.00000000e+00  1.00000000e+00  0.00000000e+00]\n",
      " [ 0.00000000e+00 -1.91027682e-17 -3.82055364e-17  0.00000000e+00]\n",
      " [ 2.00000000e+00  1.00000000e+00 -2.33468665e-17  0.00000000e+00]\n",
      " [ 0.00000000e+00  0.00000000e+00  0.00000000e+00  1.00000000e+00]]\n",
      "[[ 1.18672342e-17  0.00000000e+00 -1.66666667e-01  1.59189735e-17\n",
      "   5.00000000e-01  0.00000000e+00]\n",
      " [-7.50549794e-18  0.00000000e+00  3.33333333e-01 -1.27351788e-17\n",
      "   1.53527128e-16  0.00000000e+00]\n",
      " [-2.68782301e-17  0.00000000e+00  8.33333333e-01 -4.13893311e-17\n",
      "  -5.00000000e-01  0.00000000e+00]\n",
      " [ 0.00000000e+00  0.00000000e+00  0.00000000e+00  0.00000000e+00\n",
      "   0.00000000e+00  1.00000000e+00]]\n",
      "[52.26381075073069, 34.99999999999999, 54.73618924926929, 0.0]\n"
     ]
    }
   ],
   "source": [
    "def select_init(desired, preset):\n",
    "    x, y = desired[0], desired[1]\n",
    "    key = (x > 0, y > 0)\n",
    "    mapping = {\n",
    "        (True,   True): 0,\n",
    "        (False,  True): 1,\n",
    "        (False, False): 2,\n",
    "        (True,  False): 3,\n",
    "    }\n",
    "    return preset[mapping[key]]\n",
    "\n",
    "desired = [0.6,0.4,0,0,0,142] # 목표 자세의 (x,y,z,roll,pitch,yaw)\n",
    "T_d = se3.pose_to_SE3(desired) # 목표 자세의 Tranformation Matrix\n",
    "threshold = 1e-3 # 오차 범위\n",
    "count = 0\n",
    "\n",
    "init = select_init(desired, scara.preset) # 목표 자세에 해당하는 사분면 초기 상태 호출\n",
    "\n",
    "# while True:\n",
    "\n",
    "#     count += 1 # 연산 횟수 증가\n",
    "\n",
    "eb_1 = se3.matexp('R',init[0],B[0])\n",
    "eb_2 = se3.matexp('R',init[1],B[1])\n",
    "eb_3 = se3.matexp('R',init[2],B[2])\n",
    "eb_4 = se3.matexp('P',init[3],B[3])\n",
    "\n",
    "matexps_b = [eb_1,eb_2,eb_3,eb_4] # Body Axis 기준 각 축의 Matrix Exponential\n",
    "\n",
    "es_1 = se3.matexp('R',init[0],S[0])\n",
    "es_2 = se3.matexp('R',init[1],S[1])\n",
    "es_3 = se3.matexp('R',init[2],S[2])\n",
    "es_4 = se3.matexp('P',init[3],S[3])\n",
    "\n",
    "matexps_s = [es_1,es_2,es_3,es_4] # Space Axis 기준 각 축의 Matrix Exponential\n",
    "\n",
    "T_sb = se3.matsb(M,matexps_b) # Forward Kinematics 적용 변환행렬\n",
    "print(T_sb)\n",
    "currentPosition = []\n",
    "for i in range(3):\n",
    "    currentPosition.append(T_sb[i,3].item()) # 현재 x, y, z\n",
    "\n",
    "eulerAngles = se3.CurrenntAxis(T_sb)\n",
    "# print(eulerAngles)\n",
    "for eulerAngle in eulerAngles:\n",
    "    currentPosition.append(eulerAngle) # 현재 Euler 각도\n",
    "# print(currentPosition)\n",
    "\n",
    "relativePosition = np.array(desired) - np.array(currentPosition) # 목표와 추정값의 오차\n",
    "# print(relativePosition)\n",
    "\n",
    "T_bd = np.dot(np.linalg.inv(T_sb),T_d) # Relative Trasformation Matrix\n",
    "\n",
    "J_b = se3.body_jacobian(M,matexps_b,matexps_s,S) # Body Jacobian\n",
    "# print(J_b)\n",
    "J_pseudo = se3.j_inv(J_b) # Jacobian의 역행렬 (또는 의사역행렬)\n",
    "# print(J_pseudo)\n",
    "V_bd = se3.relativetwist(T_bd) # Ralative Twist\n",
    "\n",
    "theta = np.zeros(4)\n",
    "theta[:3], theta[3] = np.array(np.deg2rad(init[:3])), init[3]\n",
    "thetak = theta.reshape(4,1) + J_pseudo @ V_bd.reshape(6,1) # Newton Raphson Method\n",
    "thetak[:3] = np.rad2deg(thetak[:3])\n",
    "\n",
    "init = thetak.flatten().tolist()\n",
    "for i in range(3):\n",
    "    if init[i] % 360 > 180:\n",
    "        init[i] = init[i] % 360 - 360\n",
    "    else:\n",
    "        init[i] = init[i] % 360\n",
    "# print(sum(init[:3]))\n",
    "# print(init)\n",
    "\n",
    "# if np.all(np.abs(relativePosition) < threshold): # 오차가 임계값 이내면 break\n",
    "#     print(currentPosition)\n",
    "#     print(f\"연산 횟수 : {count}, 관절 각도 : {init}\")\n",
    "#     break\n",
    "\n",
    "# time.sleep(0.001)"
   ]
  },
  {
   "cell_type": "code",
   "execution_count": 10,
   "id": "11ebf785",
   "metadata": {},
   "outputs": [
    {
     "name": "stdout",
     "output_type": "stream",
     "text": [
      "176.674537130443\n"
     ]
    }
   ],
   "source": [
    "a = [-543.325462869557, -180.07172692049105, 865.3971897900482, 0.0]\n",
    "print(a[0]%360)"
   ]
  },
  {
   "cell_type": "code",
   "execution_count": 11,
   "id": "5662d34e",
   "metadata": {},
   "outputs": [
    {
     "name": "stdout",
     "output_type": "stream",
     "text": [
      "3.2005175392878855\n"
     ]
    }
   ],
   "source": [
    "print(np.random.normal(0,2))"
   ]
  }
 ],
 "metadata": {
  "kernelspec": {
   "display_name": "Numerical_IK",
   "language": "python",
   "name": "python3"
  },
  "language_info": {
   "codemirror_mode": {
    "name": "ipython",
    "version": 3
   },
   "file_extension": ".py",
   "mimetype": "text/x-python",
   "name": "python",
   "nbconvert_exporter": "python",
   "pygments_lexer": "ipython3",
   "version": "3.9.21"
  }
 },
 "nbformat": 4,
 "nbformat_minor": 5
}
