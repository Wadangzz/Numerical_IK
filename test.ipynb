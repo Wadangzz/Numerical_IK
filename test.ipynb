{
 "cells": [
  {
   "cell_type": "code",
   "execution_count": 1,
   "id": "a80a1cca",
   "metadata": {},
   "outputs": [],
   "source": [
    "import numpy as np\n",
    "import Robot\n",
    "from SE3lib import SE3"
   ]
  },
  {
   "cell_type": "code",
   "execution_count": 8,
   "id": "06804708",
   "metadata": {},
   "outputs": [
    {
     "name": "stdout",
     "output_type": "stream",
     "text": [
      "[[0.0, 0.0, 1.0, 0.0, 0.0, 0.0], [0.0, 0.0, 1.0, 0.0, -1.0, 0.0], [0.0, 0.0, 1.0, 0.0, -2.0, 0.0], [0.0, 0.0, 0.0, 0.0, 0.0, 1.0]]\n",
      "<class 'list'>\n"
     ]
    }
   ],
   "source": [
    "scara = Robot.SCARA(2,1,1)\n",
    "print(scara.S_tw)\n",
    "print(type(scara.S_tw))\n",
    "\n",
    "M = scara.zero\n",
    "S = scara.S_tw\n",
    "B = scara.B_tw"
   ]
  },
  {
   "cell_type": "code",
   "execution_count": 3,
   "id": "7043977a",
   "metadata": {},
   "outputs": [
    {
     "name": "stdout",
     "output_type": "stream",
     "text": [
      "[[ 0 -1  0]\n",
      " [ 1  0  0]\n",
      " [ 0  0  0]]\n",
      "[0, 2, 0]\n"
     ]
    }
   ],
   "source": [
    "se3 = SE3()\n",
    "w = se3.skew(scara.B_tw[0][:3])\n",
    "v = scara.B_tw[0][3:]\n",
    "print(w)\n",
    "print(v)"
   ]
  },
  {
   "cell_type": "code",
   "execution_count": 9,
   "id": "70aa6a77",
   "metadata": {},
   "outputs": [
    {
     "name": "stdout",
     "output_type": "stream",
     "text": [
      "[[ 0.70710678 -0.70710678  0.          0.        ]\n",
      " [ 0.70710678  0.70710678  0.          0.        ]\n",
      " [ 0.          0.          1.          0.        ]\n",
      " [ 0.          0.          0.          1.        ]]\n"
     ]
    }
   ],
   "source": [
    "es_1 = se3.matexp('R',45,S[0])\n",
    "es_2 = se3.matexp('R',45,S[1])\n",
    "es_3 = se3.matexp('R',45,S[2])\n",
    "es_4 = se3.matexp('P',0.9,S[3])\n",
    "print(es_1)\n",
    "matexps_s = [es_1,es_2,es_3,es_4]\n"
   ]
  },
  {
   "cell_type": "code",
   "execution_count": 10,
   "id": "7f736d0c",
   "metadata": {},
   "outputs": [
    {
     "name": "stdout",
     "output_type": "stream",
     "text": [
      "[[ 0.70710678 -0.70710678  0.         -0.58578644]\n",
      " [ 0.70710678  0.70710678  0.          1.41421356]\n",
      " [ 0.          0.          1.          0.        ]\n",
      " [ 0.          0.          0.          1.        ]]\n"
     ]
    }
   ],
   "source": [
    "eb_1 = se3.matexp('R',45,B[0])\n",
    "eb_2 = se3.matexp('R',45,B[1])\n",
    "eb_3 = se3.matexp('R',45,B[2])\n",
    "eb_4 = se3.matexp('P',0.9,B[3])\n",
    "print(eb_1)\n",
    "matexps_b = [eb_1,eb_2,eb_3,eb_4]\n"
   ]
  },
  {
   "cell_type": "code",
   "execution_count": 6,
   "id": "6c70d66e",
   "metadata": {},
   "outputs": [
    {
     "name": "stdout",
     "output_type": "stream",
     "text": [
      "[[ 0.          0.          0.          0.        ]\n",
      " [ 0.          0.          0.          0.        ]\n",
      " [ 1.          1.          1.          0.        ]\n",
      " [ 0.          0.70710678  1.70710678  0.        ]\n",
      " [ 0.         -0.70710678 -0.70710678  0.        ]\n",
      " [ 0.          0.          0.          1.        ]]\n"
     ]
    }
   ],
   "source": [
    "js = se3.space_jacobian(matexps_s,scara.S_tw)\n",
    "print(js)"
   ]
  },
  {
   "cell_type": "code",
   "execution_count": 7,
   "id": "30a0b63a",
   "metadata": {},
   "outputs": [
    {
     "name": "stdout",
     "output_type": "stream",
     "text": [
      "[[ 0.00000000e+00  0.00000000e+00  0.00000000e+00  0.00000000e+00]\n",
      " [ 0.00000000e+00  0.00000000e+00  0.00000000e+00  0.00000000e+00]\n",
      " [ 1.00000000e+00  1.00000000e+00  1.00000000e+00  0.00000000e+00]\n",
      " [ 1.70710678e+00  1.21320344e-01  4.21718067e-16  0.00000000e+00]\n",
      " [ 7.07106781e-01 -7.07106781e-01 -2.82842712e+00  0.00000000e+00]\n",
      " [ 0.00000000e+00  0.00000000e+00  0.00000000e+00  1.00000000e+00]]\n"
     ]
    }
   ],
   "source": [
    "jb = se3.body_jacobian(scara.zero,matexps_b,scara.S_tw)\n",
    "print(jb)"
   ]
  }
 ],
 "metadata": {
  "kernelspec": {
   "display_name": "Numerical_IK",
   "language": "python",
   "name": "python3"
  },
  "language_info": {
   "codemirror_mode": {
    "name": "ipython",
    "version": 3
   },
   "file_extension": ".py",
   "mimetype": "text/x-python",
   "name": "python",
   "nbconvert_exporter": "python",
   "pygments_lexer": "ipython3",
   "version": "3.9.21"
  }
 },
 "nbformat": 4,
 "nbformat_minor": 5
}
