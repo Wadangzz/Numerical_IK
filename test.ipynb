{
 "cells": [
  {
   "cell_type": "code",
   "execution_count": 1,
   "id": "a80a1cca",
   "metadata": {},
   "outputs": [],
   "source": [
    "import numpy as np\n",
    "import Robot\n",
    "from MyRobotMath import SE3"
   ]
  },
  {
   "cell_type": "code",
   "execution_count": 2,
   "id": "06804708",
   "metadata": {},
   "outputs": [
    {
     "name": "stdout",
     "output_type": "stream",
     "text": [
      "[[0.0, 0.0, 1.0, 0.0, 0.0, 0.0], [0.0, 0.0, 1.0, 0.0, -1.0, 0.0], [0.0, 0.0, 1.0, 0.0, -2.0, 0.0], [0.0, 0.0, 0.0, 0.0, 0.0, 1.0]]\n",
      "<class 'list'>\n"
     ]
    }
   ],
   "source": [
    "scara = Robot.SCARA(2,1,1)\n",
    "print(scara.S_tw)\n",
    "print(type(scara.S_tw))\n",
    "\n",
    "M = scara.zero\n",
    "S = scara.S_tw\n",
    "B = scara.B_tw"
   ]
  },
  {
   "cell_type": "code",
   "execution_count": 3,
   "id": "7043977a",
   "metadata": {},
   "outputs": [
    {
     "name": "stdout",
     "output_type": "stream",
     "text": [
      "[[ 0 -1  0]\n",
      " [ 1  0  0]\n",
      " [ 0  0  0]]\n",
      "[0, 2, 0]\n"
     ]
    }
   ],
   "source": [
    "se3 = SE3()\n",
    "w = se3.skew(scara.B_tw[0][:3])\n",
    "v = scara.B_tw[0][3:]\n",
    "print(w)\n",
    "print(v)"
   ]
  },
  {
   "cell_type": "code",
   "execution_count": 4,
   "id": "70aa6a77",
   "metadata": {},
   "outputs": [
    {
     "name": "stdout",
     "output_type": "stream",
     "text": [
      "[[ 0.70710678 -0.70710678  0.          0.        ]\n",
      " [ 0.70710678  0.70710678  0.          0.        ]\n",
      " [ 0.          0.          1.          0.        ]\n",
      " [ 0.          0.          0.          1.        ]]\n"
     ]
    }
   ],
   "source": [
    "es_1 = se3.matexp('R',45,S[0])\n",
    "es_2 = se3.matexp('R',45,S[1])\n",
    "es_3 = se3.matexp('R',45,S[2])\n",
    "es_4 = se3.matexp('P',0.9,S[3])\n",
    "print(es_1)\n",
    "matexps_s = [es_1,es_2,es_3,es_4]\n"
   ]
  },
  {
   "cell_type": "code",
   "execution_count": 5,
   "id": "7f736d0c",
   "metadata": {},
   "outputs": [
    {
     "name": "stdout",
     "output_type": "stream",
     "text": [
      "[[ 0.70710678 -0.70710678  0.         -0.58578644]\n",
      " [ 0.70710678  0.70710678  0.          1.41421356]\n",
      " [ 0.          0.          1.          0.        ]\n",
      " [ 0.          0.          0.          1.        ]]\n"
     ]
    }
   ],
   "source": [
    "eb_1 = se3.matexp('R',45,B[0])\n",
    "eb_2 = se3.matexp('R',45,B[1])\n",
    "eb_3 = se3.matexp('R',45,B[2])\n",
    "eb_4 = se3.matexp('P',0.9,B[3])\n",
    "print(eb_1)\n",
    "matexps_b = [eb_1,eb_2,eb_3,eb_4]\n"
   ]
  },
  {
   "cell_type": "code",
   "execution_count": 6,
   "id": "6c70d66e",
   "metadata": {},
   "outputs": [
    {
     "name": "stdout",
     "output_type": "stream",
     "text": [
      "[[ 0.          0.          0.          0.        ]\n",
      " [ 0.          0.          0.          0.        ]\n",
      " [ 1.          1.          1.          0.        ]\n",
      " [ 0.          0.70710678  1.70710678  0.        ]\n",
      " [ 0.         -0.70710678 -0.70710678  0.        ]\n",
      " [ 0.          0.          0.          1.        ]]\n"
     ]
    }
   ],
   "source": [
    "js = se3.space_jacobian(matexps_s,scara.S_tw)\n",
    "print(js)"
   ]
  },
  {
   "cell_type": "code",
   "execution_count": 7,
   "id": "30a0b63a",
   "metadata": {},
   "outputs": [
    {
     "name": "stdout",
     "output_type": "stream",
     "text": [
      "[[ 0.00000000e+00  0.00000000e+00  0.00000000e+00  0.00000000e+00]\n",
      " [ 0.00000000e+00  0.00000000e+00  0.00000000e+00  0.00000000e+00]\n",
      " [ 1.00000000e+00  1.00000000e+00  1.00000000e+00  0.00000000e+00]\n",
      " [ 1.70710678e+00  7.07106781e-01  3.31400081e-17  0.00000000e+00]\n",
      " [ 7.07106781e-01  7.07106781e-01 -1.67155782e-16  0.00000000e+00]\n",
      " [ 0.00000000e+00  0.00000000e+00  0.00000000e+00  1.00000000e+00]]\n"
     ]
    }
   ],
   "source": [
    "jb = se3.body_jacobian(M,matexps_b,matexps_s,scara.S_tw)\n",
    "print(jb)"
   ]
  },
  {
   "cell_type": "code",
   "execution_count": 8,
   "id": "084a7a94",
   "metadata": {},
   "outputs": [
    {
     "name": "stdout",
     "output_type": "stream",
     "text": [
      "[[-0.70710678 -0.70710678  0.          0.70710678]\n",
      " [ 0.70710678 -0.70710678  0.          1.70710678]\n",
      " [ 0.          0.          1.          0.9       ]\n",
      " [ 0.          0.          0.          1.        ]]\n"
     ]
    }
   ],
   "source": [
    "print(se3.matsb(M,matexps_b))"
   ]
  },
  {
   "cell_type": "code",
   "execution_count": 9,
   "id": "101c2b46",
   "metadata": {},
   "outputs": [
    {
     "name": "stdout",
     "output_type": "stream",
     "text": [
      "[[ 0.8660254 -0.5        0.         1.       ]\n",
      " [ 0.5        0.8660254  0.         1.4      ]\n",
      " [ 0.         0.         1.         1.       ]\n",
      " [ 0.         0.         0.         1.       ]]\n"
     ]
    }
   ],
   "source": [
    "T_d = se3.pose_to_SE3(1,1.4,1,0,0,30)\n",
    "print(T_d)"
   ]
  },
  {
   "cell_type": "code",
   "execution_count": null,
   "id": "1089bea0",
   "metadata": {},
   "outputs": [
    {
     "name": "stdout",
     "output_type": "stream",
     "text": [
      "[[ 0.        ]\n",
      " [ 0.        ]\n",
      " [-1.4858945 ]\n",
      " [-0.35041139]\n",
      " [-0.30708172]\n",
      " [ 0.1       ]]\n",
      "[[41.47865536629368], [-70.93919138380349], [79.32505208477619], [1.0]]\n"
     ]
    }
   ],
   "source": [
    "init = [45,45,45,0.9]\n",
    "\n",
    "eb_1 = se3.matexp('R',init[0],B[0])\n",
    "eb_2 = se3.matexp('R',init[1],B[1])\n",
    "eb_3 = se3.matexp('R',init[2],B[2])\n",
    "eb_4 = se3.matexp('P',init[3],B[3])\n",
    "\n",
    "matexps_b = [eb_1,eb_2,eb_3,eb_4]\n",
    "\n",
    "es_1 = se3.matexp('R',init[0],S[0])\n",
    "es_2 = se3.matexp('R',init[1],S[1])\n",
    "es_3 = se3.matexp('R',init[2],S[2])\n",
    "es_4 = se3.matexp('P',init[3],S[3])\n",
    "\n",
    "matexps_s = [es_1,es_2,es_3,es_4]\n",
    "\n",
    "T_sb = se3.matsb(M,matexps_b)\n",
    "\n",
    "T_bd = np.dot(np.linalg.inv(T_sb),T_d)\n",
    "\n",
    "J_b = se3.body_jacobian(scara.zero,matexps_b,matexps_b,scara.S_tw)\n",
    "J_pseudo = se3.j_inv(J_b)\n",
    "\n",
    "V_bd = se3.relativetwist(T_bd)\n",
    "print(V_bd.reshape(6,1))\n",
    "theta = np.zeros(4)\n",
    "theta[:3], theta[3] = np.array(np.deg2rad(init[:3])),init[3]\n",
    "thetak = theta.reshape(4,1) + J_pseudo @ V_bd.reshape(6,1)\n",
    "thetak[:3] = np.rad2deg(thetak[:3])\n",
    "init = thetak.tolist()\n",
    "\n",
    "\n",
    "\n"
   ]
  }
 ],
 "metadata": {
  "kernelspec": {
   "display_name": "Numerical_IK",
   "language": "python",
   "name": "python3"
  },
  "language_info": {
   "codemirror_mode": {
    "name": "ipython",
    "version": 3
   },
   "file_extension": ".py",
   "mimetype": "text/x-python",
   "name": "python",
   "nbconvert_exporter": "python",
   "pygments_lexer": "ipython3",
   "version": "3.9.21"
  }
 },
 "nbformat": 4,
 "nbformat_minor": 5
}
